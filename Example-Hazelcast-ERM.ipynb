{
 "cells": [
  {
   "cell_type": "markdown",
   "source": [
    "# Prerequisites"
   ],
   "metadata": {
    "collapsed": false
   },
   "id": "d9a94edffb06e0b9"
  },
  {
   "cell_type": "markdown",
   "source": [
    "## Install the Hazelcast Python Client"
   ],
   "metadata": {
    "collapsed": false
   },
   "id": "d691279c9efadf05"
  },
  {
   "cell_type": "code",
   "outputs": [
    {
     "name": "stdout",
     "output_type": "stream",
     "text": [
      "Requirement already satisfied: hazelcast-python-client in c:\\users\\timo\\pycharmprojects\\db2-hazelcast\\.venv\\lib\\site-packages (5.3.0)\n"
     ]
    }
   ],
   "source": [
    "!pip install hazelcast-python-client==5.3.0"
   ],
   "metadata": {
    "collapsed": false,
    "ExecuteTime": {
     "end_time": "2024-02-28T14:03:14.440916Z",
     "start_time": "2024-02-28T14:03:12.957523Z"
    }
   },
   "id": "99f073905886ade2",
   "execution_count": 14
  },
  {
   "cell_type": "markdown",
   "source": [
    "## Importing the Hazelcast Python Client"
   ],
   "metadata": {
    "collapsed": false
   },
   "id": "b5305904567ba88e"
  },
  {
   "cell_type": "code",
   "execution_count": 15,
   "id": "initial_id",
   "metadata": {
    "collapsed": true,
    "ExecuteTime": {
     "end_time": "2024-02-28T14:03:14.446303Z",
     "start_time": "2024-02-28T14:03:14.442282Z"
    }
   },
   "outputs": [],
   "source": [
    "import hazelcast"
   ]
  },
  {
   "cell_type": "markdown",
   "source": [
    "## Importing classes"
   ],
   "metadata": {
    "collapsed": false
   },
   "id": "240c568220b2d0a3"
  },
  {
   "cell_type": "code",
   "outputs": [],
   "source": [
    "from models.person import Person\n",
    "from models.address import Address"
   ],
   "metadata": {
    "collapsed": false,
    "ExecuteTime": {
     "end_time": "2024-02-28T14:03:14.458343Z",
     "start_time": "2024-02-28T14:03:14.446385Z"
    }
   },
   "id": "81e5c7a9e6e45ec4",
   "execution_count": 16
  },
  {
   "cell_type": "markdown",
   "source": [
    "# Python Client"
   ],
   "metadata": {
    "collapsed": false
   },
   "id": "67c378ea29aa7e2e"
  },
  {
   "cell_type": "markdown",
   "source": [
    "## Creating a Hazelcast Client"
   ],
   "metadata": {
    "collapsed": false
   },
   "id": "93eb66a75952507f"
  },
  {
   "cell_type": "code",
   "outputs": [],
   "source": [
    "client = hazelcast.HazelcastClient(cluster_name=\"DB2\", )"
   ],
   "metadata": {
    "collapsed": false,
    "ExecuteTime": {
     "end_time": "2024-02-28T14:03:14.478706Z",
     "start_time": "2024-02-28T14:03:14.459969Z"
    }
   },
   "id": "1d6c382a97aea59d",
   "execution_count": 17
  },
  {
   "cell_type": "markdown",
   "source": [
    "## Write Data to Memory"
   ],
   "metadata": {
    "collapsed": false
   },
   "id": "7ed53c49eb1fc007"
  },
  {
   "cell_type": "code",
   "outputs": [
    {
     "data": {
      "text/plain": "<models.address.Address at 0x2292c634110>"
     },
     "execution_count": 18,
     "metadata": {},
     "output_type": "execute_result"
    }
   ],
   "source": [
    "persons_map = client.get_map(\"persons\").blocking()\n",
    "addresses_map = client.get_map(\"addresses\").blocking()\n",
    "\n",
    "# Beispiel-Entitäten erstellen\n",
    "person1 = Person(\"1\", \"John Doe\")\n",
    "address1 = Address(\"1\", \"Stuttgart\", person1.id)\n",
    "address2 = Address(\"2\", \"Berlin\", person1.id)\n",
    "\n",
    "# Entitäten in den Maps speichern\n",
    "persons_map.put(person1.id, person1)\n",
    "addresses_map.put(address1.id, address1)\n",
    "addresses_map.put(address2.id, address2)\n"
   ],
   "metadata": {
    "collapsed": false,
    "ExecuteTime": {
     "end_time": "2024-02-28T14:03:14.497220Z",
     "start_time": "2024-02-28T14:03:14.479911Z"
    }
   },
   "id": "2f18c9c6ccb28ca",
   "execution_count": 18
  },
  {
   "cell_type": "markdown",
   "source": [
    "## Read Data from Memory"
   ],
   "metadata": {
    "collapsed": false
   },
   "id": "18d5fde6c4b0afd8"
  },
  {
   "cell_type": "code",
   "outputs": [
    {
     "name": "stdout",
     "output_type": "stream",
     "text": [
      "Adressen für Person 1: ['Stuttgart', 'Berlin']\n"
     ]
    }
   ],
   "source": [
    "person_id_to_query = \"1\"\n",
    "addresses_for_person = [address for address in addresses_map.values() if address.person_id == person_id_to_query]\n",
    "\n",
    "print(f\"Adressen für Person {person_id_to_query}: {[address.details for address in addresses_for_person]}\")\n"
   ],
   "metadata": {
    "collapsed": false,
    "ExecuteTime": {
     "end_time": "2024-02-28T14:03:14.505603Z",
     "start_time": "2024-02-28T14:03:14.497278Z"
    }
   },
   "id": "2a8e368720dc25b7",
   "execution_count": 19
  },
  {
   "cell_type": "markdown",
   "source": [
    "# Use SQL for Hazelcast in Python\n",
    "## Create a SQL Table"
   ],
   "metadata": {
    "collapsed": false
   },
   "id": "7f3746bab4e4eb5a"
  },
  {
   "cell_type": "code",
   "outputs": [
    {
     "data": {
      "text/plain": "<hazelcast.future.Future at 0x2292d8e9990>"
     },
     "execution_count": 20,
     "metadata": {},
     "output_type": "execute_result"
    }
   ],
   "source": [
    "sql = client.sql\n",
    "\n",
    "# Tabelle erstellen (Map)\n",
    "query = \"\"\"\n",
    "CREATE MAPPING cities \n",
    "__key INT,\n",
    "countries VARCHAR,\n",
    "cities VARCHAR)\n",
    "TYPE IMap\n",
    "OPTIONS('keyFormat'='int', 'valueFormat'='json-flat');\n",
    "\"\"\"\n",
    "\n",
    "sql.execute(query)"
   ],
   "metadata": {
    "collapsed": false,
    "ExecuteTime": {
     "end_time": "2024-02-28T14:03:14.514358Z",
     "start_time": "2024-02-28T14:03:14.507084Z"
    }
   },
   "id": "5064c49981f325a2",
   "execution_count": 20
  },
  {
   "cell_type": "markdown",
   "source": [
    "## Insert Data with SQL"
   ],
   "metadata": {
    "collapsed": false
   },
   "id": "b1cf8427bf9cc263"
  },
  {
   "cell_type": "code",
   "outputs": [
    {
     "data": {
      "text/plain": "<hazelcast.future.Future at 0x2292d8eb750>"
     },
     "execution_count": 21,
     "metadata": {},
     "output_type": "execute_result"
    }
   ],
   "source": [
    "# Daten in die Tabelle einfügen\n",
    "query = \"\"\"\n",
    "INSERT INTO cities VALUES\n",
    "(1, 'United Kingdom','London'),\n",
    "(2, 'United Kingdom','Manchester'),\n",
    "(3, 'United States', 'New York'),\n",
    "(4, 'United States', 'Los Angeles'),\n",
    "(5, 'Turkey', 'Ankara'),\n",
    "(6, 'Turkey', 'Istanbul'),\n",
    "(7, 'Brazil', 'Sao Paulo'),\n",
    "(8, 'Brazil', 'Rio de Janeiro');\n",
    "\"\"\"\n",
    "\n",
    "sql.execute(query)\n"
   ],
   "metadata": {
    "collapsed": false,
    "ExecuteTime": {
     "end_time": "2024-02-28T14:03:14.527867Z",
     "start_time": "2024-02-28T14:03:14.515453Z"
    }
   },
   "id": "d9e8fdcbdd1bf080",
   "execution_count": 21
  },
  {
   "cell_type": "markdown",
   "source": [
    "## Query Data with SQL"
   ],
   "metadata": {
    "collapsed": false
   },
   "id": "498e566ae24e3df9"
  },
  {
   "cell_type": "code",
   "outputs": [
    {
     "ename": "HazelcastSqlError",
     "evalue": "Object 'cities' not found, did you forget to CREATE MAPPING?",
     "output_type": "error",
     "traceback": [
      "\u001B[1;31m---------------------------------------------------------------------------\u001B[0m",
      "\u001B[1;31mHazelcastSqlError\u001B[0m                         Traceback (most recent call last)",
      "Cell \u001B[1;32mIn[22], line 3\u001B[0m\n\u001B[0;32m      1\u001B[0m \u001B[38;5;66;03m# Daten abfragen\u001B[39;00m\n\u001B[0;32m      2\u001B[0m query \u001B[38;5;241m=\u001B[39m \u001B[38;5;124m\"\u001B[39m\u001B[38;5;124mSELECT * FROM cities\u001B[39m\u001B[38;5;124m\"\u001B[39m\n\u001B[1;32m----> 3\u001B[0m result \u001B[38;5;241m=\u001B[39m \u001B[43msql\u001B[49m\u001B[38;5;241;43m.\u001B[39;49m\u001B[43mexecute\u001B[49m\u001B[43m(\u001B[49m\u001B[43mquery\u001B[49m\u001B[43m)\u001B[49m\u001B[38;5;241;43m.\u001B[39;49m\u001B[43mresult\u001B[49m\u001B[43m(\u001B[49m\u001B[43m)\u001B[49m\n\u001B[0;32m      5\u001B[0m \u001B[38;5;66;03m# Ergebnisse durchgehen\u001B[39;00m\n\u001B[0;32m      6\u001B[0m \u001B[38;5;28;01mfor\u001B[39;00m row \u001B[38;5;129;01min\u001B[39;00m result:\n",
      "File \u001B[1;32m~\\PycharmProjects\\DB2-Hazelcast\\.venv\\Lib\\site-packages\\hazelcast\\future.py:63\u001B[0m, in \u001B[0;36mFuture.result\u001B[1;34m(self)\u001B[0m\n\u001B[0;32m     61\u001B[0m \u001B[38;5;28mself\u001B[39m\u001B[38;5;241m.\u001B[39m_event\u001B[38;5;241m.\u001B[39mwait()\n\u001B[0;32m     62\u001B[0m \u001B[38;5;28;01mif\u001B[39;00m \u001B[38;5;28mself\u001B[39m\u001B[38;5;241m.\u001B[39m_exception:\n\u001B[1;32m---> 63\u001B[0m     \u001B[43mre_raise\u001B[49m\u001B[43m(\u001B[49m\u001B[38;5;28;43mself\u001B[39;49m\u001B[38;5;241;43m.\u001B[39;49m\u001B[43m_exception\u001B[49m\u001B[43m,\u001B[49m\u001B[43m \u001B[49m\u001B[38;5;28;43mself\u001B[39;49m\u001B[38;5;241;43m.\u001B[39;49m\u001B[43m_traceback\u001B[49m\u001B[43m)\u001B[49m\n\u001B[0;32m     65\u001B[0m \u001B[38;5;66;03m# Result will be set to the correct type before we\u001B[39;00m\n\u001B[0;32m     66\u001B[0m \u001B[38;5;66;03m# return from here\u001B[39;00m\n\u001B[0;32m     67\u001B[0m \u001B[38;5;28;01mreturn\u001B[39;00m \u001B[38;5;28mself\u001B[39m\u001B[38;5;241m.\u001B[39m_result\n",
      "File \u001B[1;32m~\\PycharmProjects\\DB2-Hazelcast\\.venv\\Lib\\site-packages\\hazelcast\\util.py:450\u001B[0m, in \u001B[0;36mre_raise\u001B[1;34m(exception, traceback)\u001B[0m\n\u001B[0;32m    447\u001B[0m \u001B[38;5;28;01mif\u001B[39;00m exception\u001B[38;5;241m.\u001B[39m__traceback__ \u001B[38;5;129;01mis\u001B[39;00m \u001B[38;5;129;01mnot\u001B[39;00m traceback:\n\u001B[0;32m    448\u001B[0m     \u001B[38;5;28;01mraise\u001B[39;00m exception\u001B[38;5;241m.\u001B[39mwith_traceback(traceback)\n\u001B[1;32m--> 450\u001B[0m \u001B[38;5;28;01mraise\u001B[39;00m exception\n",
      "File \u001B[1;32m~\\PycharmProjects\\DB2-Hazelcast\\.venv\\Lib\\site-packages\\hazelcast\\future.py:154\u001B[0m, in \u001B[0;36mFuture.continue_with.<locals>.callback\u001B[1;34m(f)\u001B[0m\n\u001B[0;32m    152\u001B[0m \u001B[38;5;28;01mdef\u001B[39;00m \u001B[38;5;21mcallback\u001B[39m(f):\n\u001B[0;32m    153\u001B[0m     \u001B[38;5;28;01mtry\u001B[39;00m:\n\u001B[1;32m--> 154\u001B[0m         result \u001B[38;5;241m=\u001B[39m \u001B[43mcontinuation_func\u001B[49m\u001B[43m(\u001B[49m\u001B[43mf\u001B[49m\u001B[43m,\u001B[49m\u001B[43m \u001B[49m\u001B[38;5;241;43m*\u001B[39;49m\u001B[43margs\u001B[49m\u001B[43m)\u001B[49m\n\u001B[0;32m    155\u001B[0m         \u001B[38;5;28;01mif\u001B[39;00m \u001B[38;5;28misinstance\u001B[39m(result, Future):\n\u001B[0;32m    156\u001B[0m             future\u001B[38;5;241m.\u001B[39m_chain(result)\n",
      "File \u001B[1;32m~\\PycharmProjects\\DB2-Hazelcast\\.venv\\Lib\\site-packages\\hazelcast\\sql.py:1269\u001B[0m, in \u001B[0;36m_InternalSqlService.execute.<locals>.<lambda>\u001B[1;34m(future)\u001B[0m\n\u001B[0;32m   1257\u001B[0m     invocation \u001B[38;5;241m=\u001B[39m Invocation(\n\u001B[0;32m   1258\u001B[0m         request,\n\u001B[0;32m   1259\u001B[0m         connection\u001B[38;5;241m=\u001B[39mconnection,\n\u001B[0;32m   1260\u001B[0m         response_handler\u001B[38;5;241m=\u001B[39m\u001B[38;5;28;01mlambda\u001B[39;00m m: sql_execute_codec\u001B[38;5;241m.\u001B[39mdecode_response(m, \u001B[38;5;28mself\u001B[39m\u001B[38;5;241m.\u001B[39m_to_object),\n\u001B[0;32m   1261\u001B[0m     )\n\u001B[0;32m   1262\u001B[0m     \u001B[38;5;28mself\u001B[39m\u001B[38;5;241m.\u001B[39m_invocation_service\u001B[38;5;241m.\u001B[39minvoke(invocation)\n\u001B[0;32m   1263\u001B[0m     \u001B[38;5;28;01mreturn\u001B[39;00m invocation\u001B[38;5;241m.\u001B[39mfuture\u001B[38;5;241m.\u001B[39mcontinue_with(\n\u001B[0;32m   1264\u001B[0m         \u001B[38;5;28;01mlambda\u001B[39;00m future: SqlResult(\n\u001B[0;32m   1265\u001B[0m             \u001B[38;5;28mself\u001B[39m,\n\u001B[0;32m   1266\u001B[0m             connection,\n\u001B[0;32m   1267\u001B[0m             query_id,\n\u001B[0;32m   1268\u001B[0m             statement\u001B[38;5;241m.\u001B[39mcursor_buffer_size,\n\u001B[1;32m-> 1269\u001B[0m             \u001B[38;5;28;43mself\u001B[39;49m\u001B[38;5;241;43m.\u001B[39;49m\u001B[43m_handle_execute_response\u001B[49m\u001B[43m(\u001B[49m\u001B[43mfuture\u001B[49m\u001B[43m,\u001B[49m\u001B[43m \u001B[49m\u001B[43mconnection\u001B[49m\u001B[43m)\u001B[49m,\n\u001B[0;32m   1270\u001B[0m         )\n\u001B[0;32m   1271\u001B[0m     )\n\u001B[0;32m   1272\u001B[0m \u001B[38;5;28;01mexcept\u001B[39;00m \u001B[38;5;167;01mException\u001B[39;00m \u001B[38;5;28;01mas\u001B[39;00m e:\n\u001B[0;32m   1273\u001B[0m     \u001B[38;5;28;01mreturn\u001B[39;00m ImmediateExceptionFuture(\u001B[38;5;28mself\u001B[39m\u001B[38;5;241m.\u001B[39mre_raise(e, connection))\n",
      "File \u001B[1;32m~\\PycharmProjects\\DB2-Hazelcast\\.venv\\Lib\\site-packages\\hazelcast\\sql.py:1408\u001B[0m, in \u001B[0;36m_InternalSqlService._handle_execute_response\u001B[1;34m(self, future, connection)\u001B[0m\n\u001B[0;32m   1399\u001B[0m \u001B[38;5;28;01mif\u001B[39;00m response_error:\n\u001B[0;32m   1400\u001B[0m     \u001B[38;5;66;03m# There is a server-side error sent to the client.\u001B[39;00m\n\u001B[0;32m   1401\u001B[0m     sql_error \u001B[38;5;241m=\u001B[39m HazelcastSqlError(\n\u001B[0;32m   1402\u001B[0m         response_error\u001B[38;5;241m.\u001B[39moriginating_member_uuid,\n\u001B[0;32m   1403\u001B[0m         response_error\u001B[38;5;241m.\u001B[39mcode,\n\u001B[1;32m   (...)\u001B[0m\n\u001B[0;32m   1406\u001B[0m         response_error\u001B[38;5;241m.\u001B[39msuggestion,\n\u001B[0;32m   1407\u001B[0m     )\n\u001B[1;32m-> 1408\u001B[0m     \u001B[38;5;28;01mraise\u001B[39;00m sql_error\n\u001B[0;32m   1410\u001B[0m row_metadata \u001B[38;5;241m=\u001B[39m response[\u001B[38;5;124m\"\u001B[39m\u001B[38;5;124mrow_metadata\u001B[39m\u001B[38;5;124m\"\u001B[39m]\n\u001B[0;32m   1411\u001B[0m \u001B[38;5;28;01mif\u001B[39;00m row_metadata \u001B[38;5;129;01mis\u001B[39;00m \u001B[38;5;129;01mnot\u001B[39;00m \u001B[38;5;28;01mNone\u001B[39;00m:\n\u001B[0;32m   1412\u001B[0m     \u001B[38;5;66;03m# The result contains some rows, not an update count.\u001B[39;00m\n",
      "\u001B[1;31mHazelcastSqlError\u001B[0m: Object 'cities' not found, did you forget to CREATE MAPPING?"
     ]
    }
   ],
   "source": [
    "# Daten abfragen\n",
    "query = \"SELECT * FROM cities\"\n",
    "result = sql.execute(query).result()\n",
    "\n",
    "# Ergebnisse durchgehen\n",
    "for row in result:\n",
    "    print(row)"
   ],
   "metadata": {
    "collapsed": false,
    "ExecuteTime": {
     "end_time": "2024-02-28T14:03:14.569085Z",
     "start_time": "2024-02-28T14:03:14.528876Z"
    }
   },
   "id": "d5af6be450f4f878",
   "execution_count": 22
  },
  {
   "cell_type": "markdown",
   "source": [
    "## Query data with python client"
   ],
   "metadata": {
    "collapsed": false
   },
   "id": "c8659cc7fed76b3"
  },
  {
   "cell_type": "code",
   "outputs": [],
   "source": [
    "# Daten abfragen\n",
    "citiy_map = client.get_map(\"cities\").blocking()\n",
    "\n",
    "for key, value in citiy_map.entry_set():\n",
    "    print(key, value)"
   ],
   "metadata": {
    "collapsed": false,
    "ExecuteTime": {
     "end_time": "2024-02-28T14:03:19.393654Z",
     "start_time": "2024-02-28T14:03:19.369680Z"
    }
   },
   "id": "4a4f3dee90fcd765",
   "execution_count": 23
  },
  {
   "cell_type": "markdown",
   "source": [
    "# Example: Bookstore\n",
    "This example demonstrates how to use Hazelcast to store and query data for a bookstore. The example uses three maps to store data for authors, books, and publishers. The example also demonstrates how to query the data."
   ],
   "metadata": {
    "collapsed": false
   },
   "id": "65698bb445024544"
  },
  {
   "cell_type": "code",
   "outputs": [],
   "source": [
    "import hazelcast\n",
    "\n",
    "# Hazelcast-Client konfigurieren und starten\n",
    "client = hazelcast.HazelcastClient(cluster_name=\"DB2\", )\n",
    "\n",
    "# Maps für die Entitäten erstellen\n",
    "autoren_map = client.get_map(\"autoren\").blocking()\n",
    "buecher_map = client.get_map(\"buecher\").blocking()\n",
    "verlage_map = client.get_map(\"verlage\").blocking()\n",
    "\n",
    "# Autoren hinzufügen\n",
    "autoren_map.put_if_absent(\"rowling\", {\"Name\": \"Rowling\", \"Vorname\": \"J.K.\", \"Alter\": 57})\n",
    "autoren_map.put_if_absent(\"collins\", {\"Name\": \"Collins\", \"Vorname\": \"Suzanne\", \"Alter\": 60})\n",
    "autoren_map.put_if_absent(\"tolkien\", {\"Name\": \"Tolkien\", \"Vorname\": \"J.R.R.\", \"Alter\": 81})\n",
    "\n",
    "# Verlage hinzufügen\n",
    "verlage_map.put(1, {\"Name\": \"Carlsen Verlag\"})\n",
    "verlage_map.put(2, {\"Name\": \"Klett Cotta\"})\n",
    "verlage_map.put(3, {\"Name\": \"Oetinger Verlag\"})\n",
    "\n",
    "# Bücher der Harry Potter-Serie\n",
    "harry_potter_books = [\n",
    "    {\"ISBN\": \"9780747532699\", \"Name\": \"Harry Potter und der Stein der Weisen\"},\n",
    "    {\"ISBN\": \"9780747538493\", \"Name\": \"Harry Potter und die Kammer des Schreckens\"},\n",
    "    {\"ISBN\": \"9780747542155\", \"Name\": \"Harry Potter und der Gefangene von Askaban\"},\n",
    "    {\"ISBN\": \"9780747546245\", \"Name\": \"Harry Potter und der Feuerkelch\"},\n",
    "    {\"ISBN\": \"9780747551003\", \"Name\": \"Harry Potter und der Orden des Phoenix\"},\n",
    "    {\"ISBN\": \"9780747581086\", \"Name\": \"Harry Potter und der Halbblutprinz\"},\n",
    "    {\"ISBN\": \"9780747591054\", \"Name\": \"Harry Potter und die Heiligtuemer des Todes\"}\n",
    "]\n",
    "\n",
    "# Bücher der Tribute von Panem-Serie\n",
    "hunger_games_books = [\n",
    "    {\"ISBN\": \"9780439023481\", \"Name\": \"Die Tribute von Panem – Toedliche Spiele\"},\n",
    "    {\"ISBN\": \"9780439023498\", \"Name\": \"Die Tribute von Panem – Gefaehrliche Liebe\"},\n",
    "    {\"ISBN\": \"9780439023511\", \"Name\": \"Die Tribute von Panem – Flammender Zorn\"}\n",
    "]\n",
    "\n",
    "# Bücher der Herr der Ringe-Serie\n",
    "lord_of_the_rings_books = [\n",
    "    {\"ISBN\": \"9780261102354\", \"Name\": \"Der Herr der Ringe: Die Gefaehrten\"},\n",
    "    {\"ISBN\": \"9780261102361\", \"Name\": \"Der Herr der Ringe: Die zwei Tuerme\"},\n",
    "    {\"ISBN\": \"9780261102378\", \"Name\": \"Der Herr der Ringe: Die Rueckkehr des Koenigs\"}\n",
    "]\n",
    "\n",
    "# Harry Potter Bücher hinzufügen\n",
    "for book in harry_potter_books:\n",
    "    buecher_map.put(book['ISBN'], {**book, \"AutorID\": \"rowling\", \"VerlagID\": 1})\n",
    "\n",
    "# Tribute von Panem Bücher hinzufügen\n",
    "for book in hunger_games_books:\n",
    "    buecher_map.put(book['ISBN'], {**book, \"AutorID\": \"collins\", \"VerlagID\": 3})\n",
    "\n",
    "# Herr der Ringe Bücher hinzufügen\n",
    "for book in lord_of_the_rings_books:\n",
    "    buecher_map.put(book['ISBN'], {**book, \"AutorID\": \"tolkien\", \"VerlagID\": 2})\n",
    "\n",
    "\n",
    "\n",
    "\n"
   ],
   "metadata": {
    "collapsed": false,
    "ExecuteTime": {
     "end_time": "2024-02-28T14:03:39.927614Z",
     "start_time": "2024-02-28T14:03:39.865084Z"
    }
   },
   "id": "ac729a279ba758a1",
   "execution_count": 27
  },
  {
   "cell_type": "markdown",
   "source": [
    "## Query Data"
   ],
   "metadata": {
    "collapsed": false
   },
   "id": "dca38e9b5947523b"
  },
  {
   "cell_type": "code",
   "outputs": [],
   "source": [
    "sql = client.sql"
   ],
   "metadata": {
    "collapsed": false,
    "ExecuteTime": {
     "end_time": "2024-02-28T14:03:40.783625Z",
     "start_time": "2024-02-28T14:03:40.780400Z"
    }
   },
   "id": "80212a95bfc39a04",
   "execution_count": 28
  },
  {
   "cell_type": "code",
   "outputs": [
    {
     "name": "stdout",
     "output_type": "stream",
     "text": [
      "Harry Potter und der Orden des Phoenix\n",
      "Harry Potter und der Feuerkelch\n",
      "Harry Potter und der Gefangene von Askaban\n",
      "Harry Potter und die Heiligtuemer des Todes\n",
      "Harry Potter und der Halbblutprinz\n",
      "Harry Potter und der Stein der Weisen\n",
      "Harry Potter und die Kammer des Schreckens\n"
     ]
    }
   ],
   "source": [
    "# Alle Bücher von J.K. Rowling abfragen\n",
    "result = [book[\"Name\"] for book in buecher_map.values() if book[\"AutorID\"] == \"rowling\"]\n",
    "\n",
    "# # Mit SQL\n",
    "# query = \"SELECT * FROM buecher WHERE AutorID = 'rowling'\"\n",
    "# result = sql.execute(query).result()\n",
    "    \n",
    "# Ergebnisse durchgehen\n",
    "for row in result:\n",
    "    print(row)"
   ],
   "metadata": {
    "collapsed": false,
    "ExecuteTime": {
     "end_time": "2024-02-28T14:11:23.253466Z",
     "start_time": "2024-02-28T14:11:23.244828Z"
    }
   },
   "id": "cd437f7a45a73d9e",
   "execution_count": 32
  },
  {
   "cell_type": "markdown",
   "source": [
    "## Shutdown the Client"
   ],
   "metadata": {
    "collapsed": false
   },
   "id": "9707426863687a14"
  },
  {
   "cell_type": "code",
   "outputs": [],
   "source": [
    "# Verbindung zum Cluster beenden\n",
    "client.shutdown()"
   ],
   "metadata": {
    "collapsed": false,
    "ExecuteTime": {
     "start_time": "2024-02-28T14:03:14.574388Z"
    }
   },
   "id": "6c5959754f32459a",
   "execution_count": null
  }
 ],
 "metadata": {
  "kernelspec": {
   "display_name": "Python 3",
   "language": "python",
   "name": "python3"
  },
  "language_info": {
   "codemirror_mode": {
    "name": "ipython",
    "version": 2
   },
   "file_extension": ".py",
   "mimetype": "text/x-python",
   "name": "python",
   "nbconvert_exporter": "python",
   "pygments_lexer": "ipython2",
   "version": "2.7.6"
  }
 },
 "nbformat": 4,
 "nbformat_minor": 5
}
