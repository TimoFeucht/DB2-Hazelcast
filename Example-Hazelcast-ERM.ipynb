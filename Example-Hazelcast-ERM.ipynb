{
 "cells": [
  {
   "cell_type": "markdown",
   "source": [
    "# Prerequisites"
   ],
   "metadata": {
    "collapsed": false
   },
   "id": "d9a94edffb06e0b9"
  },
  {
   "cell_type": "markdown",
   "source": [
    "## Install the Hazelcast Python Client"
   ],
   "metadata": {
    "collapsed": false
   },
   "id": "d691279c9efadf05"
  },
  {
   "cell_type": "code",
   "outputs": [
    {
     "name": "stdout",
     "output_type": "stream",
     "text": [
      "Requirement already satisfied: hazelcast-python-client in c:\\users\\timo\\pycharmprojects\\db2-hazelcast\\.venv\\lib\\site-packages (5.3.0)\n"
     ]
    }
   ],
   "source": [
    "!pip install hazelcast-python-client"
   ],
   "metadata": {
    "collapsed": false,
    "ExecuteTime": {
     "end_time": "2024-02-27T14:54:07.975087500Z",
     "start_time": "2024-02-27T14:54:05.940663800Z"
    }
   },
   "id": "99f073905886ade2",
   "execution_count": 31
  },
  {
   "cell_type": "markdown",
   "source": [
    "## Importing the Hazelcast Python Client"
   ],
   "metadata": {
    "collapsed": false
   },
   "id": "b5305904567ba88e"
  },
  {
   "cell_type": "code",
   "execution_count": 32,
   "id": "initial_id",
   "metadata": {
    "collapsed": true,
    "ExecuteTime": {
     "end_time": "2024-02-27T14:54:07.984793600Z",
     "start_time": "2024-02-27T14:54:07.977662700Z"
    }
   },
   "outputs": [],
   "source": [
    "import hazelcast"
   ]
  },
  {
   "cell_type": "markdown",
   "source": [
    "## Importing classes"
   ],
   "metadata": {
    "collapsed": false
   },
   "id": "240c568220b2d0a3"
  },
  {
   "cell_type": "code",
   "outputs": [],
   "source": [
    "from models.person import Person\n",
    "from models.address import Address"
   ],
   "metadata": {
    "collapsed": false,
    "ExecuteTime": {
     "end_time": "2024-02-27T14:54:08.039487700Z",
     "start_time": "2024-02-27T14:54:07.985804100Z"
    }
   },
   "id": "81e5c7a9e6e45ec4",
   "execution_count": 33
  },
  {
   "cell_type": "markdown",
   "source": [
    "# Python Client"
   ],
   "metadata": {
    "collapsed": false
   },
   "id": "67c378ea29aa7e2e"
  },
  {
   "cell_type": "markdown",
   "source": [
    "## Creating a Hazelcast Client"
   ],
   "metadata": {
    "collapsed": false
   },
   "id": "93eb66a75952507f"
  },
  {
   "cell_type": "code",
   "outputs": [],
   "source": [
    "client = hazelcast.HazelcastClient(cluster_name=\"DB2\", )"
   ],
   "metadata": {
    "collapsed": false,
    "ExecuteTime": {
     "end_time": "2024-02-27T14:54:08.078543400Z",
     "start_time": "2024-02-27T14:54:08.012535200Z"
    }
   },
   "id": "1d6c382a97aea59d",
   "execution_count": 34
  },
  {
   "cell_type": "markdown",
   "source": [
    "## Write Data to Memory"
   ],
   "metadata": {
    "collapsed": false
   },
   "id": "7ed53c49eb1fc007"
  },
  {
   "cell_type": "code",
   "outputs": [
    {
     "data": {
      "text/plain": "<models.address.Address at 0x248475aec10>"
     },
     "execution_count": 35,
     "metadata": {},
     "output_type": "execute_result"
    }
   ],
   "source": [
    "persons_map = client.get_map(\"persons\").blocking()\n",
    "addresses_map = client.get_map(\"addresses\").blocking()\n",
    "\n",
    "# Beispiel-Entitäten erstellen\n",
    "person1 = Person(\"1\", \"John Doe\")\n",
    "address1 = Address(\"1\", \"Stuttgart\", person1.id)\n",
    "address2 = Address(\"2\", \"Berlin\", person1.id)\n",
    "\n",
    "# Entitäten in den Maps speichern\n",
    "persons_map.put(person1.id, person1)\n",
    "addresses_map.put(address1.id, address1)\n",
    "addresses_map.put(address2.id, address2)\n"
   ],
   "metadata": {
    "collapsed": false,
    "ExecuteTime": {
     "end_time": "2024-02-27T14:54:08.149065400Z",
     "start_time": "2024-02-27T14:54:08.047893800Z"
    }
   },
   "id": "2f18c9c6ccb28ca",
   "execution_count": 35
  },
  {
   "cell_type": "markdown",
   "source": [
    "## Read Data from Memory"
   ],
   "metadata": {
    "collapsed": false
   },
   "id": "18d5fde6c4b0afd8"
  },
  {
   "cell_type": "code",
   "outputs": [
    {
     "name": "stdout",
     "output_type": "stream",
     "text": [
      "Adressen für Person 1: ['Stuttgart', 'Berlin']\n"
     ]
    }
   ],
   "source": [
    "person_id_to_query = \"1\"\n",
    "addresses_for_person = [address for address in addresses_map.values() if address.person_id == person_id_to_query]\n",
    "\n",
    "print(f\"Adressen für Person {person_id_to_query}: {[address.details for address in addresses_for_person]}\")\n"
   ],
   "metadata": {
    "collapsed": false,
    "ExecuteTime": {
     "end_time": "2024-02-27T14:54:08.151367500Z",
     "start_time": "2024-02-27T14:54:08.075849100Z"
    }
   },
   "id": "2a8e368720dc25b7",
   "execution_count": 36
  },
  {
   "cell_type": "markdown",
   "source": [
    "# Use SQL for Hazelcast in Python\n",
    "## Create a SQL Table"
   ],
   "metadata": {
    "collapsed": false
   },
   "id": "7f3746bab4e4eb5a"
  },
  {
   "cell_type": "code",
   "outputs": [
    {
     "data": {
      "text/plain": "<hazelcast.future.Future at 0x248475a0690>"
     },
     "execution_count": 37,
     "metadata": {},
     "output_type": "execute_result"
    }
   ],
   "source": [
    "sql = client.sql\n",
    "\n",
    "# Tabelle erstellen (Map)\n",
    "query = \"\"\"\n",
    "CREATE MAPPING cities \n",
    "__key INT,\n",
    "countries VARCHAR,\n",
    "cities VARCHAR)\n",
    "TYPE IMap\n",
    "OPTIONS('keyFormat'='int', 'valueFormat'='json-flat');\n",
    "\"\"\"\n",
    "\n",
    "sql.execute(query)"
   ],
   "metadata": {
    "collapsed": false,
    "ExecuteTime": {
     "end_time": "2024-02-27T14:54:08.151961800Z",
     "start_time": "2024-02-27T14:54:08.085793Z"
    }
   },
   "id": "5064c49981f325a2",
   "execution_count": 37
  },
  {
   "cell_type": "markdown",
   "source": [
    "## Insert Data with SQL"
   ],
   "metadata": {
    "collapsed": false
   },
   "id": "b1cf8427bf9cc263"
  },
  {
   "cell_type": "code",
   "outputs": [
    {
     "data": {
      "text/plain": "<hazelcast.future.Future at 0x2484759e390>"
     },
     "execution_count": 38,
     "metadata": {},
     "output_type": "execute_result"
    }
   ],
   "source": [
    "# Daten in die Tabelle einfügen\n",
    "query = \"\"\"\n",
    "INSERT INTO cities VALUES\n",
    "(1, 'United Kingdom','London'),\n",
    "(2, 'United Kingdom','Manchester'),\n",
    "(3, 'United States', 'New York'),\n",
    "(4, 'United States', 'Los Angeles'),\n",
    "(5, 'Turkey', 'Ankara'),\n",
    "(6, 'Turkey', 'Istanbul'),\n",
    "(7, 'Brazil', 'Sao Paulo'),\n",
    "(8, 'Brazil', 'Rio de Janeiro');\n",
    "\"\"\"\n",
    "\n",
    "sql.execute(query)\n"
   ],
   "metadata": {
    "collapsed": false,
    "ExecuteTime": {
     "end_time": "2024-02-27T14:54:08.224123300Z",
     "start_time": "2024-02-27T14:54:08.103100300Z"
    }
   },
   "id": "d9e8fdcbdd1bf080",
   "execution_count": 38
  },
  {
   "cell_type": "markdown",
   "source": [
    "## Query Data with SQL"
   ],
   "metadata": {
    "collapsed": false
   },
   "id": "498e566ae24e3df9"
  },
  {
   "cell_type": "code",
   "outputs": [
    {
     "name": "stdout",
     "output_type": "stream",
     "text": [
      "[__key INTEGER=2, countries VARCHAR=United Kingdom, cities VARCHAR=Manchester]\n",
      "[__key INTEGER=6, countries VARCHAR=Turkey, cities VARCHAR=Istanbul]\n",
      "[__key INTEGER=1, countries VARCHAR=United Kingdom, cities VARCHAR=London]\n",
      "[__key INTEGER=7, countries VARCHAR=Brazil, cities VARCHAR=Sao Paulo]\n",
      "[__key INTEGER=8, countries VARCHAR=Brazil, cities VARCHAR=Rio de Janeiro]\n",
      "[__key INTEGER=5, countries VARCHAR=Turkey, cities VARCHAR=Ankara]\n",
      "[__key INTEGER=4, countries VARCHAR=United States, cities VARCHAR=Los Angeles]\n",
      "[__key INTEGER=3, countries VARCHAR=United States, cities VARCHAR=New York]\n"
     ]
    }
   ],
   "source": [
    "# Daten abfragen\n",
    "query = \"SELECT * FROM cities\"\n",
    "result = sql.execute(query).result()\n",
    "\n",
    "# Ergebnisse durchgehen\n",
    "for row in result:\n",
    "    print(row)"
   ],
   "metadata": {
    "collapsed": false,
    "ExecuteTime": {
     "end_time": "2024-02-27T14:54:08.243707600Z",
     "start_time": "2024-02-27T14:54:08.127006100Z"
    }
   },
   "id": "d5af6be450f4f878",
   "execution_count": 39
  },
  {
   "cell_type": "markdown",
   "source": [
    "## Query data with python client"
   ],
   "metadata": {
    "collapsed": false
   },
   "id": "c8659cc7fed76b3"
  },
  {
   "cell_type": "code",
   "outputs": [
    {
     "name": "stdout",
     "output_type": "stream",
     "text": [
      "2 {\"countries\":\"United Kingdom\",\"cities\":\"Manchester\"}\n",
      "6 {\"countries\":\"Turkey\",\"cities\":\"Istanbul\"}\n",
      "1 {\"countries\":\"United Kingdom\",\"cities\":\"London\"}\n",
      "7 {\"countries\":\"Brazil\",\"cities\":\"Sao Paulo\"}\n",
      "8 {\"countries\":\"Brazil\",\"cities\":\"Rio de Janeiro\"}\n",
      "5 {\"countries\":\"Turkey\",\"cities\":\"Ankara\"}\n",
      "4 {\"countries\":\"United States\",\"cities\":\"Los Angeles\"}\n",
      "3 {\"countries\":\"United States\",\"cities\":\"New York\"}\n"
     ]
    }
   ],
   "source": [
    "# Daten abfragen\n",
    "citiy_map = client.get_map(\"cities\").blocking()\n",
    "\n",
    "for key, value in citiy_map.entry_set():\n",
    "    print(key, value)\n"
   ],
   "metadata": {
    "collapsed": false,
    "ExecuteTime": {
     "end_time": "2024-02-27T14:54:08.245795900Z",
     "start_time": "2024-02-27T14:54:08.159653100Z"
    }
   },
   "id": "4a4f3dee90fcd765",
   "execution_count": 40
  },
  {
   "cell_type": "markdown",
   "source": [
    "# Example: Bookstore\n",
    "This example demonstrates how to use Hazelcast to store and query data for a bookstore. The example uses three maps to store data for authors, books, and publishers. The example also demonstrates how to query the data."
   ],
   "metadata": {
    "collapsed": false
   },
   "id": "65698bb445024544"
  },
  {
   "cell_type": "code",
   "outputs": [],
   "source": [
    "import hazelcast\n",
    "\n",
    "# Hazelcast-Client konfigurieren und starten\n",
    "client = hazelcast.HazelcastClient(cluster_name=\"DB2\", )\n",
    "\n",
    "# Maps für die Entitäten erstellen\n",
    "autoren_map = client.get_map(\"autoren\").blocking()\n",
    "buecher_map = client.get_map(\"buecher\").blocking()\n",
    "verlage_map = client.get_map(\"verlage\").blocking()\n",
    "\n",
    "# Autoren hinzufügen\n",
    "rowling_id = autoren_map.put_if_absent(\"rowling\", {\"Name\": \"J.K. Rowling\", \"Alter\": 57})\n",
    "collins_id = autoren_map.put_if_absent(\"collins\", {\"Name\": \"Suzanne Collins\", \"Alter\": 60})\n",
    "tolkien_id = autoren_map.put_if_absent(\"tolkien\", {\"Name\": \"J.R.R. Tolkien\", \"Alter\": 81})\n",
    "\n",
    "# Verlage hinzufügen\n",
    "verlage_map.put(1, {\"Name\": \"Carlsen Verlag\"})\n",
    "verlage_map.put(2, {\"Name\": \"Klett Cotta\"})\n",
    "verlage_map.put(3, {\"Name\": \"Oetinger Verlag\"})\n",
    "\n",
    "# Bücher der Harry Potter-Serie\n",
    "harry_potter_books = [\n",
    "    {\"ISBN\": \"9780747532699\", \"Name\": \"Harry Potter und der Stein der Weisen\"},\n",
    "    {\"ISBN\": \"9780747538493\", \"Name\": \"Harry Potter und die Kammer des Schreckens\"},\n",
    "    {\"ISBN\": \"9780747542155\", \"Name\": \"Harry Potter und der Gefangene von Askaban\"},\n",
    "    {\"ISBN\": \"9780747546245\", \"Name\": \"Harry Potter und der Feuerkelch\"},\n",
    "    {\"ISBN\": \"9780747551003\", \"Name\": \"Harry Potter und der Orden des Phoenix\"},\n",
    "    {\"ISBN\": \"9780747581086\", \"Name\": \"Harry Potter und der Halbblutprinz\"},\n",
    "    {\"ISBN\": \"9780747591054\", \"Name\": \"Harry Potter und die Heiligtuemer des Todes\"}\n",
    "]\n",
    "\n",
    "# Bücher der Tribute von Panem-Serie\n",
    "hunger_games_books = [\n",
    "    {\"ISBN\": \"9780439023481\", \"Name\": \"Die Tribute von Panem – Toedliche Spiele\"},\n",
    "    {\"ISBN\": \"9780439023498\", \"Name\": \"Die Tribute von Panem – Gefaehrliche Liebe\"},\n",
    "    {\"ISBN\": \"9780439023511\", \"Name\": \"Die Tribute von Panem – Flammender Zorn\"}\n",
    "]\n",
    "\n",
    "# Bücher der Herr der Ringe-Serie\n",
    "lord_of_the_rings_books = [\n",
    "    {\"ISBN\": \"9780261102354\", \"Name\": \"Der Herr der Ringe: Die Gefaehrten\"},\n",
    "    {\"ISBN\": \"9780261102361\", \"Name\": \"Der Herr der Ringe: Die zwei Tuerme\"},\n",
    "    {\"ISBN\": \"9780261102378\", \"Name\": \"Der Herr der Ringe: Die Rueckkehr des Koenigs\"}\n",
    "]\n",
    "\n",
    "# Harry Potter Bücher hinzufügen\n",
    "for book in harry_potter_books:\n",
    "    buecher_map.put(book['ISBN'], {**book, \"AutorID\": \"rowling\", \"VerlagID\": 1})\n",
    "\n",
    "# Tribute von Panem Bücher hinzufügen\n",
    "for book in hunger_games_books:\n",
    "    buecher_map.put(book['ISBN'], {**book, \"AutorID\": \"collins\", \"VerlagID\": 3})\n",
    "\n",
    "# Herr der Ringe Bücher hinzufügen\n",
    "for book in lord_of_the_rings_books:\n",
    "    buecher_map.put(book['ISBN'], {**book, \"AutorID\": \"tolkien\", \"VerlagID\": 2})\n",
    "    \n",
    "\n",
    "\n",
    "\n"
   ],
   "metadata": {
    "collapsed": false,
    "ExecuteTime": {
     "end_time": "2024-02-27T14:58:29.902981700Z",
     "start_time": "2024-02-27T14:58:29.832278200Z"
    }
   },
   "id": "ac729a279ba758a1",
   "execution_count": 45
  },
  {
   "cell_type": "markdown",
   "source": [
    "## Query Data"
   ],
   "metadata": {
    "collapsed": false
   },
   "id": "dca38e9b5947523b"
  },
  {
   "cell_type": "code",
   "outputs": [],
   "source": [
    "sql = client.sql"
   ],
   "metadata": {
    "collapsed": false,
    "ExecuteTime": {
     "end_time": "2024-02-27T14:58:31.188425200Z",
     "start_time": "2024-02-27T14:58:31.179349800Z"
    }
   },
   "id": "80212a95bfc39a04",
   "execution_count": 46
  },
  {
   "cell_type": "code",
   "outputs": [
    {
     "name": "stdout",
     "output_type": "stream",
     "text": [
      "Harry Potter und der Orden des Phoenix\n",
      "Harry Potter und der Feuerkelch\n",
      "Harry Potter und der Gefangene von Askaban\n",
      "Harry Potter und die Heiligtuemer des Todes\n",
      "Harry Potter und der Halbblutprinz\n",
      "Harry Potter und der Stein der Weisen\n",
      "Harry Potter und die Kammer des Schreckens\n"
     ]
    }
   ],
   "source": [
    "# Alle Bücher von J.K. Rowling abfragen\n",
    "result = [book[\"Name\"] for book in buecher_map.values() if book[\"AutorID\"] == \"rowling\"]\n",
    "\n",
    "# Ergebnisse durchgehen\n",
    "for row in result:\n",
    "    print(row)"
   ],
   "metadata": {
    "collapsed": false,
    "ExecuteTime": {
     "end_time": "2024-02-27T14:58:31.992373600Z",
     "start_time": "2024-02-27T14:58:31.960430800Z"
    }
   },
   "id": "cd437f7a45a73d9e",
   "execution_count": 47
  },
  {
   "cell_type": "markdown",
   "source": [
    "## Shutdown the Client"
   ],
   "metadata": {
    "collapsed": false
   },
   "id": "9707426863687a14"
  },
  {
   "cell_type": "code",
   "outputs": [],
   "source": [
    "# Verbindung zum Cluster beenden\n",
    "client.shutdown()"
   ],
   "metadata": {
    "collapsed": false,
    "ExecuteTime": {
     "end_time": "2024-02-27T14:54:08.335329400Z",
     "start_time": "2024-02-27T14:54:08.264225900Z"
    }
   },
   "id": "6c5959754f32459a",
   "execution_count": 44
  }
 ],
 "metadata": {
  "kernelspec": {
   "display_name": "Python 3",
   "language": "python",
   "name": "python3"
  },
  "language_info": {
   "codemirror_mode": {
    "name": "ipython",
    "version": 2
   },
   "file_extension": ".py",
   "mimetype": "text/x-python",
   "name": "python",
   "nbconvert_exporter": "python",
   "pygments_lexer": "ipython2",
   "version": "2.7.6"
  }
 },
 "nbformat": 4,
 "nbformat_minor": 5
}
