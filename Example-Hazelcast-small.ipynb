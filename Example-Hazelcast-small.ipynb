{
 "cells": [
  {
   "cell_type": "markdown",
   "source": [
    "# Importing the Hazelcast Python Client"
   ],
   "metadata": {
    "collapsed": false
   },
   "id": "b5305904567ba88e"
  },
  {
   "cell_type": "code",
   "execution_count": 11,
   "id": "initial_id",
   "metadata": {
    "collapsed": true,
    "ExecuteTime": {
     "end_time": "2024-02-27T10:27:20.528043200Z",
     "start_time": "2024-02-27T10:27:20.515581100Z"
    }
   },
   "outputs": [],
   "source": [
    "import hazelcast"
   ]
  },
  {
   "cell_type": "markdown",
   "source": [
    "# Creating a Hazelcast Client"
   ],
   "metadata": {
    "collapsed": false
   },
   "id": "93eb66a75952507f"
  },
  {
   "cell_type": "code",
   "outputs": [],
   "source": [
    "client = hazelcast.HazelcastClient(cluster_name=\"hello-world\", )"
   ],
   "metadata": {
    "collapsed": false,
    "ExecuteTime": {
     "end_time": "2024-02-27T10:27:20.576960Z",
     "start_time": "2024-02-27T10:27:20.537070500Z"
    }
   },
   "id": "1d6c382a97aea59d",
   "execution_count": 12
  },
  {
   "cell_type": "markdown",
   "source": [
    "# Write Data to Memory"
   ],
   "metadata": {
    "collapsed": false
   },
   "id": "7ed53c49eb1fc007"
  },
  {
   "cell_type": "code",
   "outputs": [
    {
     "data": {
      "text/plain": "'Avi'"
     },
     "execution_count": 13,
     "metadata": {},
     "output_type": "execute_result"
    }
   ],
   "source": [
    "my_map = client.get_map(\"customers\").blocking()\n",
    "\n",
    "my_map.put(1, \"Joe\")\n",
    "my_map.put(2, \"Ali\")\n",
    "my_map.put(3, \"Avi\")"
   ],
   "metadata": {
    "collapsed": false,
    "ExecuteTime": {
     "end_time": "2024-02-27T10:27:20.588781600Z",
     "start_time": "2024-02-27T10:27:20.568357100Z"
    }
   },
   "id": "2f18c9c6ccb28ca",
   "execution_count": 13
  },
  {
   "cell_type": "markdown",
   "source": [
    "# Read Data from Memory"
   ],
   "metadata": {
    "collapsed": false
   },
   "id": "18d5fde6c4b0afd8"
  },
  {
   "cell_type": "code",
   "outputs": [
    {
     "name": "stdout",
     "output_type": "stream",
     "text": [
      "2 Ali\n",
      "1 Joe\n",
      "3 Avi\n"
     ]
    }
   ],
   "source": [
    "my_map = client.get_map(\"customers\").blocking()\n",
    "\n",
    "for key, value in my_map.entry_set():\n",
    "    print(key, value)\n"
   ],
   "metadata": {
    "collapsed": false,
    "ExecuteTime": {
     "end_time": "2024-02-27T10:27:20.628638900Z",
     "start_time": "2024-02-27T10:27:20.592112200Z"
    }
   },
   "id": "2a8e368720dc25b7",
   "execution_count": 14
  },
  {
   "cell_type": "markdown",
   "source": [
    "# Shutdown the Client"
   ],
   "metadata": {
    "collapsed": false
   },
   "id": "fe4b9edd09fc26a5"
  },
  {
   "cell_type": "code",
   "outputs": [],
   "source": [
    "client.shutdown()"
   ],
   "metadata": {
    "collapsed": false,
    "ExecuteTime": {
     "end_time": "2024-02-27T10:27:20.656411900Z",
     "start_time": "2024-02-27T10:27:20.603382900Z"
    }
   },
   "id": "d947919c7ae7c786",
   "execution_count": 15
  },
  {
   "cell_type": "code",
   "outputs": [],
   "source": [],
   "metadata": {
    "collapsed": false,
    "ExecuteTime": {
     "end_time": "2024-02-27T10:27:20.657971400Z",
     "start_time": "2024-02-27T10:27:20.628638900Z"
    }
   },
   "id": "aab85d7b53c05141",
   "execution_count": 15
  }
 ],
 "metadata": {
  "kernelspec": {
   "display_name": "Python 3",
   "language": "python",
   "name": "python3"
  },
  "language_info": {
   "codemirror_mode": {
    "name": "ipython",
    "version": 2
   },
   "file_extension": ".py",
   "mimetype": "text/x-python",
   "name": "python",
   "nbconvert_exporter": "python",
   "pygments_lexer": "ipython2",
   "version": "2.7.6"
  }
 },
 "nbformat": 4,
 "nbformat_minor": 5
}
